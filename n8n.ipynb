{
  "nbformat": 4,
  "nbformat_minor": 0,
  "metadata": {
    "colab": {
      "provenance": []
    },
    "kernelspec": {
      "name": "python3",
      "display_name": "Python 3"
    },
    "language_info": {
      "name": "python"
    }
  },
  "cells": [
    {
      "cell_type": "code",
      "execution_count": null,
      "metadata": {
        "colab": {
          "base_uri": "https://localhost:8080/"
        },
        "id": "rgh9TpBrYOqc",
        "outputId": "0ce653b1-79c9-429c-eeeb-91cf82f908a1"
      },
      "outputs": [
        {
          "output_type": "stream",
          "name": "stdout",
          "text": [
            "📚 Study Plan Input\n",
            "\n",
            "👤 Your Name: MOKSH\n",
            "📘 Subjects (comma-separated): AA,AT\n",
            "📅 Exam Date (YYYY-MM-DD): 2025-09-01\n",
            "⏱️ Daily Available Study Hours: 4\n",
            "📝 Any Study Preferences (optional): WA\n",
            "\n",
            "✅ Successfully sent to Study Plan Generator!\n",
            "💬 Message: {\"message\":\"Workflow was started\"}\n"
          ]
        }
      ],
      "source": [
        "\n",
        "import requests\n",
        "import datetime\n",
        "\n",
        "print(\"📚 Study Plan Input\\n\")\n",
        "\n",
        "name = input(\"👤 Your Name: \").strip()\n",
        "subjects = input(\"📘 Subjects (comma-separated): \").strip()\n",
        "exam_date = input(\"📅 Exam Date (YYYY-MM-DD): \").strip()\n",
        "daily_hours = input(\"⏱️ Daily Available Study Hours: \").strip()\n",
        "preferences = input(\"📝 Any Study Preferences (optional): \").strip()\n",
        "\n",
        "\n",
        "try:\n",
        "    datetime.datetime.strptime(exam_date, \"%Y-%m-%d\")\n",
        "except ValueError:\n",
        "    print(\"❌ Invalid exam date format. Please use YYYY-MM-DD.\")\n",
        "    exit()\n",
        "\n",
        "\n",
        "n8n_webhook_url = \"https://moksh6805.app.n8n.cloud/webhook-test/e670e3bf-5226-4a48-b9aa-03a5f30ba77c\"\n",
        "\n",
        "\n",
        "\n",
        "payload = {\n",
        "    \"name\": name,\n",
        "    \"subjects\": subjects,\n",
        "    \"exam_date\": exam_date,\n",
        "    \"daily_hours\": daily_hours,\n",
        "    \"preferences\": preferences\n",
        "}\n",
        "\n",
        "\n",
        "try:\n",
        "    response = requests.post(n8n_webhook_url, json=payload)\n",
        "    if response.ok:\n",
        "        print(\"\\n✅ Successfully sent to Study Plan Generator!\")\n",
        "        print(\"💬 Message:\", response.text)\n",
        "    else:\n",
        "        print(\"\\n❌ Error:\", response.status_code, response.text)\n",
        "except Exception as e:\n",
        "    print(\"🚫 Exception:\", e)\n"
      ]
    }
  ]
}